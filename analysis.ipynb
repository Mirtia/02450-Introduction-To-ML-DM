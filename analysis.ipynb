{
 "cells": [
  {
   "cell_type": "code",
   "execution_count": 1,
   "metadata": {},
   "outputs": [],
   "source": [
    "import pandas as pd\n",
    "import seaborn as sns\n",
    "import matplotlib.pyplot as plt\n",
    "import numpy as np\n",
    "import math\n",
    "from sklearn.decomposition import PCA\n",
    "import os"
   ]
  },
  {
   "cell_type": "markdown",
   "metadata": {},
   "source": [
    "## Options"
   ]
  },
  {
   "cell_type": "code",
   "execution_count": 2,
   "metadata": {},
   "outputs": [],
   "source": [
    "# == Options ==\n",
    "pd.set_option(\"display.max_columns\", None)\n",
    "# pd.set_option(\"display.max_rows\", None)"
   ]
  },
  {
   "cell_type": "markdown",
   "metadata": {},
   "source": [
    "## Plotting Functions\n"
   ]
  },
  {
   "cell_type": "code",
   "execution_count": 3,
   "metadata": {},
   "outputs": [],
   "source": [
    "def plot_correlation_heatmap(data: pd.DataFrame, columns: list):\n",
    "    \"\"\"\n",
    "    Plot correlation heatmap of specific columns\n",
    "    \"\"\"\n",
    "    correlation_matrix = data[columns].corr()\n",
    "    plt.figure(figsize=(13, 12))\n",
    "    sns.heatmap(correlation_matrix, annot=True, cmap=\"coolwarm\", linewidth=0.5)\n",
    "    plt.title(\"Correlation Heatmap for selected attributes\")\n",
    "    plt.show()\n",
    "\n",
    "def plot_distributions(data: pd.DataFrame):\n",
    "    \"\"\"\n",
    "    Plot distributions of numeric data\n",
    "    \"\"\"\n",
    "    sns.set_style(\"whitegrid\", {\"grid_linestyle\": \"--\"})\n",
    "    columns = data.columns\n",
    "    num_plots = len(columns)\n",
    "    num_rows = math.ceil(num_plots / 2)\n",
    "    num_columns = 2\n",
    "\n",
    "    fig, axes = plt.subplots(num_rows, num_columns, figsize=(12, 12))\n",
    "    axes = axes.ravel()\n",
    "    for i, column in enumerate(columns):\n",
    "        sns.histplot(data[column], ax=axes[i], kde=True)\n",
    "        axes[i].set_title(f\"Distribution of {column}\")\n",
    "        axes[i].set_xlabel(column)\n",
    "        axes[i].grid(axis=\"y\", linestyle=\"--\", alpha=0.6)\n",
    "        plt.xlim(xmin=0)\n",
    "\n",
    "    if num_plots % 2 != 0:\n",
    "        axes.flat[-1].set_visible(False)\n",
    "   \n",
    "    plt.tight_layout()\n",
    "    plt.show()\n",
    "\n",
    "def plot_individual_distributions(data: pd.DataFrame):\n",
    "    \"\"\"\n",
    "    Plot individual distributions of numeric data\n",
    "    \"\"\"\n",
    "    sns.set_style(\"whitegrid\", {\"grid_linestyle\": \"--\"})\n",
    "    columns = data.columns\n",
    "\n",
    "    for column in columns:\n",
    "        plt.figure(figsize=(6, 4))\n",
    "        sns.histplot(data[column], kde=True)\n",
    "        # plt.title(f\"Distribution of {column}\")\n",
    "        plt.xlabel(column)\n",
    "        plt.grid(axis=\"y\", linestyle=\"--\", alpha=0.6)\n",
    "        plt.xlim(xmin=0)\n",
    "        plt.tight_layout()\n",
    "\n",
    "        output_dir = \"figures\"\n",
    "        output_filename = os.path.join(output_dir, f\"{column}_distribution.png\")\n",
    "        plt.savefig(output_filename)\n",
    "        plt.close()\n",
    "\n",
    "def plot_violin(data: pd.DataFrame, column: str):\n",
    "    \"\"\"\n",
    "    Plot violin \n",
    "    \"\"\"    \n",
    "    plt.figure(figsize=(6, 6))\n",
    "    sns.violinplot(y=column, data=data, orient=\"v\")\n",
    "    # plt.title(f\"Violin Plot of {column}\")\n",
    "    plt.show()\n",
    "\n",
    "# - PCA Analysis\n",
    "\n",
    "def plot_PCA_variance(numbers: list, ratios: list):\n",
    "    \"\"\"\n",
    "    Plot variance ratio\n",
    "    \"\"\"\n",
    "    plt.grid(True)\n",
    "    plt.plot(numbers, ratios, marker=\"o\")\n",
    "    plt.xlabel(\"n_components\")\n",
    "    plt.ylabel(\"Explained Variance Ratio\")\n",
    "    # plt.title(\"n_components vs. Explained Variance Ratio\")\n",
    "    plt.ylim(ymin=0)\n",
    "    plt.xlim(xmin=0)\n",
    "    plt.grid(True, linestyle=\"--\", alpha=0.6)\n",
    "    plt.show()\n",
    "\n",
    "\n",
    "def plot_PCA_directions(data_numeric, numbers):\n",
    "    \"\"\"\n",
    "    Plot directions\n",
    "    \"\"\"\n",
    "    # Assumption: data is already normalized \n",
    "    n_plots = len(numbers)\n",
    "    n_cols = min(n_plots, 2)\n",
    "    n_rows = (n_plots + n_cols - 1) // n_cols\n",
    "\n",
    "    fig_width = 4 * n_cols \n",
    "    fig_height = 4 * n_rows\n",
    "    fig, axes = plt.subplots(n_rows, n_cols, figsize=(fig_width, fig_height))\n",
    "    fig.subplots_adjust(hspace=0.7)\n",
    "\n",
    "    if n_plots == 1:\n",
    "        axes = np.array([axes])\n",
    "    \n",
    "    component_colors = plt.cm.viridis(np.linspace(0, 1, max(numbers) + 1))\n",
    "\n",
    "    for i, number in enumerate(numbers):\n",
    "        row = i // n_cols\n",
    "        col = i % n_cols\n",
    "\n",
    "        pca = PCA(n_components=number)\n",
    "        pca.fit_transform(data_numeric)\n",
    "        principal_direction = pca.components_\n",
    "\n",
    "        if n_rows > 1:\n",
    "            ax = axes[row, col]\n",
    "        else:\n",
    "            ax = axes[col]\n",
    "\n",
    "        # ax.set_title(f\"Principal Directions for {number} Components\")\n",
    "        for j, direction in enumerate(principal_direction):\n",
    "            color = component_colors[j]\n",
    "            ax.quiver(0, 0, direction[0], direction[1], angles=\"xy\", scale_units=\"xy\", scale=1.0, color=color, label=f\"Component {j + 1}\")\n",
    "        ax.set_xlim(-1, 1)\n",
    "        ax.set_ylim(-1, 1)\n",
    "        ax.set_xlabel(\"X\")\n",
    "        ax.set_ylabel(\"Y\")\n",
    "\n",
    "        ax.grid(linestyle=\"--\", linewidth=0.5, alpha=0.6, color=\"gray\")\n",
    "\n",
    "    common_legend = fig.legend(handles=[plt.Line2D([0], [0], color=component_colors[i], label=f\"Component {i + 1}\") for i in range(max(numbers) + 1)], title=\"Components\", loc=\"upper right\", bbox_to_anchor=(1.2, 1))\n",
    "    for handle in common_legend.legendHandles:\n",
    "        handle.set_visible(True)\n",
    "\n",
    "    for i in range(n_plots, n_rows * n_cols):\n",
    "        fig.delaxes(axes.flatten()[i])\n",
    "\n",
    "    # plt.suptitle(\"PCA Components Directions\", fontsize=16)\n",
    "    plt.tight_layout()\n",
    "    plt.show()\n",
    "\n",
    "def plot_individual_violin_plots(data: pd.DataFrame):\n",
    "    \"\"\"\n",
    "    Plot individual violin plots of numeric data\n",
    "    \"\"\"\n",
    "    sns.set_style(\"whitegrid\", {\"grid_linestyle\": \"--\"})\n",
    "    columns = data.columns\n",
    "\n",
    "    for column in columns:\n",
    "        plt.figure(figsize=(6, 6))\n",
    "        sns.violinplot(y=column, data=data, orient=\"v\", color=\"skyblue\")\n",
    "        # plt.title(f\"Violin Plot of {column}\")\n",
    "        plt.xlabel(column)\n",
    "        plt.grid(axis=\"y\", linestyle=\"--\", alpha=0.6)\n",
    "        plt.tight_layout()\n",
    "\n",
    "        output_dir = \"figures\"\n",
    "        output_filename = os.path.join(output_dir, f\"{column}_violin.png\")\n",
    "        plt.savefig(output_filename)\n",
    "        plt.close()"
   ]
  },
  {
   "cell_type": "code",
   "execution_count": 4,
   "metadata": {},
   "outputs": [],
   "source": [
    "# == Reading the dataset ==\n",
    "dataset_path = \"./data/SAheart.csv\"\n",
    "data = pd.read_csv(dataset_path)"
   ]
  },
  {
   "cell_type": "code",
   "execution_count": 5,
   "metadata": {},
   "outputs": [],
   "source": [
    "# == Rename selected columns (if needed) ==\n",
    "columns = []\n",
    "# Replace _ if existing\n",
    "data = data.rename(columns={column: column.replace(\"_%\", \"\") for column in columns})"
   ]
  },
  {
   "cell_type": "code",
   "execution_count": 6,
   "metadata": {},
   "outputs": [],
   "source": [
    "# == Remove id(row.names) column ==\n",
    "data.drop(\"id\", inplace=True, axis=1)"
   ]
  },
  {
   "cell_type": "code",
   "execution_count": 7,
   "metadata": {},
   "outputs": [
    {
     "data": {
      "text/plain": [
       "sbp          0\n",
       "tobacco      0\n",
       "ldl          0\n",
       "adiposity    0\n",
       "famhist      0\n",
       "typea        0\n",
       "obesity      0\n",
       "alcohol      0\n",
       "age          0\n",
       "chd          0\n",
       "dtype: int64"
      ]
     },
     "execution_count": 7,
     "metadata": {},
     "output_type": "execute_result"
    }
   ],
   "source": [
    "# == Print none values ==\n",
    "data.isna().sum()"
   ]
  },
  {
   "cell_type": "code",
   "execution_count": 8,
   "metadata": {},
   "outputs": [
    {
     "data": {
      "text/html": [
       "<div>\n",
       "<style scoped>\n",
       "    .dataframe tbody tr th:only-of-type {\n",
       "        vertical-align: middle;\n",
       "    }\n",
       "\n",
       "    .dataframe tbody tr th {\n",
       "        vertical-align: top;\n",
       "    }\n",
       "\n",
       "    .dataframe thead th {\n",
       "        text-align: right;\n",
       "    }\n",
       "</style>\n",
       "<table border=\"1\" class=\"dataframe\">\n",
       "  <thead>\n",
       "    <tr style=\"text-align: right;\">\n",
       "      <th></th>\n",
       "      <th>sbp</th>\n",
       "      <th>tobacco</th>\n",
       "      <th>ldl</th>\n",
       "      <th>adiposity</th>\n",
       "      <th>famhist</th>\n",
       "      <th>typea</th>\n",
       "      <th>obesity</th>\n",
       "      <th>alcohol</th>\n",
       "      <th>age</th>\n",
       "      <th>chd</th>\n",
       "    </tr>\n",
       "  </thead>\n",
       "  <tbody>\n",
       "    <tr>\n",
       "      <th>0</th>\n",
       "      <td>160</td>\n",
       "      <td>12.00</td>\n",
       "      <td>5.73</td>\n",
       "      <td>23.11</td>\n",
       "      <td>Present</td>\n",
       "      <td>49</td>\n",
       "      <td>25.30</td>\n",
       "      <td>97.20</td>\n",
       "      <td>52</td>\n",
       "      <td>1</td>\n",
       "    </tr>\n",
       "    <tr>\n",
       "      <th>1</th>\n",
       "      <td>144</td>\n",
       "      <td>0.01</td>\n",
       "      <td>4.41</td>\n",
       "      <td>28.61</td>\n",
       "      <td>Absent</td>\n",
       "      <td>55</td>\n",
       "      <td>28.87</td>\n",
       "      <td>2.06</td>\n",
       "      <td>63</td>\n",
       "      <td>1</td>\n",
       "    </tr>\n",
       "    <tr>\n",
       "      <th>2</th>\n",
       "      <td>118</td>\n",
       "      <td>0.08</td>\n",
       "      <td>3.48</td>\n",
       "      <td>32.28</td>\n",
       "      <td>Present</td>\n",
       "      <td>52</td>\n",
       "      <td>29.14</td>\n",
       "      <td>3.81</td>\n",
       "      <td>46</td>\n",
       "      <td>0</td>\n",
       "    </tr>\n",
       "    <tr>\n",
       "      <th>3</th>\n",
       "      <td>170</td>\n",
       "      <td>7.50</td>\n",
       "      <td>6.41</td>\n",
       "      <td>38.03</td>\n",
       "      <td>Present</td>\n",
       "      <td>51</td>\n",
       "      <td>31.99</td>\n",
       "      <td>24.26</td>\n",
       "      <td>58</td>\n",
       "      <td>1</td>\n",
       "    </tr>\n",
       "    <tr>\n",
       "      <th>4</th>\n",
       "      <td>134</td>\n",
       "      <td>13.60</td>\n",
       "      <td>3.50</td>\n",
       "      <td>27.78</td>\n",
       "      <td>Present</td>\n",
       "      <td>60</td>\n",
       "      <td>25.99</td>\n",
       "      <td>57.34</td>\n",
       "      <td>49</td>\n",
       "      <td>1</td>\n",
       "    </tr>\n",
       "  </tbody>\n",
       "</table>\n",
       "</div>"
      ],
      "text/plain": [
       "   sbp  tobacco   ldl  adiposity  famhist  typea  obesity  alcohol  age  chd\n",
       "0  160    12.00  5.73      23.11  Present     49    25.30    97.20   52    1\n",
       "1  144     0.01  4.41      28.61   Absent     55    28.87     2.06   63    1\n",
       "2  118     0.08  3.48      32.28  Present     52    29.14     3.81   46    0\n",
       "3  170     7.50  6.41      38.03  Present     51    31.99    24.26   58    1\n",
       "4  134    13.60  3.50      27.78  Present     60    25.99    57.34   49    1"
      ]
     },
     "execution_count": 8,
     "metadata": {},
     "output_type": "execute_result"
    }
   ],
   "source": [
    "# == Display the first rows ==\n",
    "data.head()"
   ]
  },
  {
   "cell_type": "code",
   "execution_count": 9,
   "metadata": {},
   "outputs": [
    {
     "name": "stdout",
     "output_type": "stream",
     "text": [
      "<class 'pandas.core.frame.DataFrame'>\n",
      "RangeIndex: 462 entries, 0 to 461\n",
      "Data columns (total 9 columns):\n",
      " #   Column     Non-Null Count  Dtype  \n",
      "---  ------     --------------  -----  \n",
      " 0   sbp        462 non-null    int64  \n",
      " 1   tobacco    462 non-null    float64\n",
      " 2   ldl        462 non-null    float64\n",
      " 3   adiposity  462 non-null    float64\n",
      " 4   typea      462 non-null    int64  \n",
      " 5   obesity    462 non-null    float64\n",
      " 6   alcohol    462 non-null    float64\n",
      " 7   age        462 non-null    int64  \n",
      " 8   chd        462 non-null    int64  \n",
      "dtypes: float64(5), int64(4)\n",
      "memory usage: 32.6 KB\n",
      "Statistics           count     mean       std   min     25%     50%      75%     max\n",
      "sbp         462  138.327   20.4963   101     124     134      148     218\n",
      "tobacco     462  3.63565   4.59302     0  0.0525       2      5.5    31.2\n",
      "ldl         462  4.74032   2.07091  0.98  3.2825    4.34     5.79   15.33\n",
      "adiposity   462  25.4067    7.7807  6.74  19.775  26.115  31.2275   42.49\n",
      "typea       462  53.1039   9.81753    13      47      53       60      78\n",
      "obesity     462  26.0441   4.21368  14.7  22.985  25.805  28.4975   46.58\n",
      "alcohol     462  17.0444   24.4811     0    0.51    7.51  23.8925  147.19\n",
      "age         462   42.816    14.609    15      31      45       55      64\n",
      "chd         462  0.34632  0.476313     0       0       0        1       1\n",
      "Latex table \\begin{tabular}{lllllllll}\n",
      "\\toprule\n",
      " & count & mean & std & min & 25% & 50% & 75% & max \\\\\n",
      "\\midrule\n",
      "sbp & 462 & 138.327 & 20.4963 & 101 & 124 & 134 & 148 & 218 \\\\\n",
      "tobacco & 462 & 3.63565 & 4.59302 & 0 & 0.0525 & 2 & 5.5 & 31.2 \\\\\n",
      "ldl & 462 & 4.74032 & 2.07091 & 0.98 & 3.2825 & 4.34 & 5.79 & 15.33 \\\\\n",
      "adiposity & 462 & 25.4067 & 7.7807 & 6.74 & 19.775 & 26.115 & 31.2275 & 42.49 \\\\\n",
      "typea & 462 & 53.1039 & 9.81753 & 13 & 47 & 53 & 60 & 78 \\\\\n",
      "obesity & 462 & 26.0441 & 4.21368 & 14.7 & 22.985 & 25.805 & 28.4975 & 46.58 \\\\\n",
      "alcohol & 462 & 17.0444 & 24.4811 & 0 & 0.51 & 7.51 & 23.8925 & 147.19 \\\\\n",
      "age & 462 & 42.816 & 14.609 & 15 & 31 & 45 & 55 & 64 \\\\\n",
      "chd & 462 & 0.34632 & 0.476313 & 0 & 0 & 0 & 1 & 1 \\\\\n",
      "\\bottomrule\n",
      "\\end{tabular}\n",
      "\n"
     ]
    }
   ],
   "source": [
    "# == Select numeric columns ==\n",
    "# (all columns are numeric except from famhist)\n",
    "data_numeric = data.select_dtypes(exclude=\"object\")\n",
    "data_numeric.info(verbose=True, show_counts=True)\n",
    "summary_statistics = data_numeric.describe().apply(lambda s: s.apply(lambda x: format(x, \"g\"))).transpose()\n",
    "print(\"Statistics\", summary_statistics)\n",
    "latex_table = summary_statistics.to_latex()\n",
    "print(\"Latex table\", latex_table)"
   ]
  },
  {
   "cell_type": "code",
   "execution_count": 10,
   "metadata": {},
   "outputs": [],
   "source": [
    "# == Plot distribution of numeric data ==\n",
    "# Split for plotting purposes\n",
    "# plot_distributions(data=data_numeric.iloc[:, <range here>])\n",
    "# plot_distributions(data=data_numeric.iloc[:, [column_k, column_k_1 .....]])"
   ]
  },
  {
   "cell_type": "code",
   "execution_count": 11,
   "metadata": {},
   "outputs": [],
   "source": [
    "# == Plot violin ==\n",
    "plot_individual_violin_plots(data_numeric)"
   ]
  },
  {
   "cell_type": "code",
   "execution_count": null,
   "metadata": {},
   "outputs": [],
   "source": [
    "# == Plot heatmap ==\n",
    "plot_correlation_heatmap(data=data_numeric, columns=data_numeric.columns)"
   ]
  },
  {
   "cell_type": "code",
   "execution_count": null,
   "metadata": {},
   "outputs": [],
   "source": [
    "# == Pair plots ==\n",
    "# sns.pairplot(data=data, x_vars=[\"column_1\"], y_vars=[\"column_2\"], hue=\"mode\", markers=[\"o\", \"s\"])\n",
    "# plt.grid(True, linestyle=\"--\")\n",
    "# plt.title(\"Set title\")\n",
    "# !! Ignore titles as when we move them to overleaf, we will write captions\n",
    "\n",
    "# == Bar plots ==\n",
    "# sns.set_style(\"whitegrid\") \n",
    "# plt.figure(figsize=(10, 5))\n",
    "# plt.subplot(121)\n",
    "# sns.barplot(data=data, x=\"column_1\", y=\"column_2\", hue=\"mode\")\n",
    "# plt.title(\"Set title\")\n",
    "# plt.gca().yaxis.grid(True, linestyle='--', alpha=0.8)\n",
    "\n",
    "# plt.subplot(122)\n",
    "# sns.barplot(data=data, x=\"column_1\", y=\"column_2\", hue=\"key\")\n",
    "# plt.title(\"Set title\")\n",
    "# plt.legend(title=\"Set legend title\", loc='center left', bbox_to_anchor=(1, 0.5))\n",
    "\n",
    "# Adjust the layout\n",
    "# plt.tight_layout()\n",
    "# plt.gca().yaxis.grid(True, linestyle='--', alpha=0.8)\n",
    "\n",
    "# Show the plot\n",
    "# plt.show()"
   ]
  },
  {
   "cell_type": "markdown",
   "metadata": {},
   "source": [
    "## PCA Analysis"
   ]
  },
  {
   "cell_type": "code",
   "execution_count": null,
   "metadata": {},
   "outputs": [],
   "source": [
    "from sklearn.preprocessing import StandardScaler, MinMaxScaler\n",
    "import pca"
   ]
  },
  {
   "cell_type": "code",
   "execution_count": null,
   "metadata": {},
   "outputs": [],
   "source": [
    "# PCA Analysis Guide (looks helpful)\n",
    "# https://www.youtube.com/watch?v=oiusrJ0btwA\n",
    "# https://github.com/dataprofessor/code/blob/master/python/PCA_analysis.ipynb"
   ]
  },
  {
   "cell_type": "code",
   "execution_count": null,
   "metadata": {},
   "outputs": [],
   "source": [
    "# == Remove outliers before PCA Analysis ==\n",
    "# It may not be necessary\n",
    "for column_name in data_numeric.columns:\n",
    "    z_scores = (data_numeric[column_name] - data_numeric[column_name].mean()) / data_numeric[column_name].std()\n",
    "    data_numeric = data_numeric[abs(z_scores) < 3]  \n",
    "# Remove data points with |Z-score| > 3"
   ]
  },
  {
   "cell_type": "code",
   "execution_count": null,
   "metadata": {},
   "outputs": [],
   "source": [
    "data_numeric.head()"
   ]
  },
  {
   "cell_type": "code",
   "execution_count": null,
   "metadata": {},
   "outputs": [],
   "source": [
    "# == Normalize before PCA ==\n",
    "\n",
    "scaler = StandardScaler()\n",
    "# Trying out a different scaler\n",
    "# scaler = MinMaxScaler() \n",
    "data_normalized = scaler.fit_transform(data_numeric)"
   ]
  },
  {
   "cell_type": "code",
   "execution_count": null,
   "metadata": {},
   "outputs": [],
   "source": [
    "# == Number of PCA's and variance captured ==\n",
    "# The number of components is experimental at this stage\n",
    "# Choosing the correct number of principal components is crucial\n",
    "numbers = [1, 2, 3, 4, 5, 6, 7, 8, 9]\n",
    "variance_ratios = []\n",
    "# Trying out the different numbers\n",
    "for number in numbers:\n",
    "  pca_ = PCA(n_components=number)\n",
    "  pca_.fit_transform(data_normalized)\n",
    "  variance_ratios.append(np.sum(pca_.explained_variance_ratio_))\n",
    "  print(f\"Number of components\\t{number}\\tTotal variance\\t{sum(pca_.explained_variance_ratio_)}\")\n",
    "\n",
    "plot_PCA_variance(numbers=numbers, ratios=variance_ratios)"
   ]
  },
  {
   "cell_type": "code",
   "execution_count": null,
   "metadata": {},
   "outputs": [],
   "source": [
    "# == PCA variance captured ==\n",
    "model = pca.pca()\n",
    "out = model.fit_transform(data_normalized)\n",
    "model.plot()\n",
    "\n",
    "\n",
    "plt.grid(linestyle=\"--\", alpha=0.6, color=\"gray\") \n",
    "plt.ylim(ymin=0)\n",
    "plt.show()"
   ]
  },
  {
   "cell_type": "code",
   "execution_count": null,
   "metadata": {},
   "outputs": [],
   "source": [
    "# == PCA directions ==\n",
    "plot_PCA_directions(data_numeric=data_normalized, numbers=numbers)"
   ]
  },
  {
   "cell_type": "code",
   "execution_count": null,
   "metadata": {},
   "outputs": [],
   "source": [
    "# == PCA variance ratios ==\n",
    "explained_variance_ratios = pca_.explained_variance_ratio_\n",
    "most_informative_pca = explained_variance_ratios.argmax()\n",
    "\n",
    "# Print explained variance ratios for all PCs\n",
    "for i, explained_variance_ratio in enumerate(explained_variance_ratios):\n",
    "    print(f\"PC_{i + 1}: {explained_variance_ratio:.4f}\")\n",
    "\n",
    "print(f\"The most informative PCA is PCA_{most_informative_pca + 1} with an explained variance ratio of {explained_variance_ratios[most_informative_pca]:.4f}\")"
   ]
  },
  {
   "cell_type": "code",
   "execution_count": null,
   "metadata": {},
   "outputs": [],
   "source": [
    "# == Interpret PCA_1 and direction ==\n",
    "factor_loadings_pc1 = pca_.components_[0]\n",
    "feature_names = data_numeric.columns\n",
    "feature_loadings = dict(zip(feature_names, factor_loadings_pc1))\n",
    "sorted_features = sorted(feature_loadings.items(), key=lambda x: abs(x[1]), reverse=True)\n",
    "\n",
    "# Print the features with the highest absolute factor loadings for PC1\n",
    "print(\"Features contributing most to PC1:\")\n",
    "for feature, loading in sorted_features:\n",
    "    print(f\"{feature}: {loading:.4f}\")"
   ]
  },
  {
   "cell_type": "code",
   "execution_count": null,
   "metadata": {},
   "outputs": [],
   "source": [
    "# == Try out 3, 4, 5 PCAs ==\n",
    "number = 3\n",
    "pca_ = PCA(n_components=number)\n",
    "pca_.fit(data_normalized)\n",
    "data_pca = pca_.transform(data_normalized)\n",
    "data_pca = pd.DataFrame(data_pca, columns=[\"PCA_\" + str(i) for i in range(number)])"
   ]
  },
  {
   "cell_type": "code",
   "execution_count": null,
   "metadata": {},
   "outputs": [],
   "source": [
    "# == Pairplotting PCAs ==\n",
    "# This is a useless plot for the time being\n",
    "number = len(data_pca)\n",
    "targets = list(range(number))\n",
    "colors = plt.cm.viridis(np.linspace(0, 1, number))\n",
    "data_pca[\"Target\"] = targets\n",
    "\n",
    "sns.set_style(\"whitegrid\")\n",
    "sns.pairplot(data_pca, hue=\"Target\", palette=\"viridis\")\n",
    "plt.show()"
   ]
  },
  {
   "cell_type": "code",
   "execution_count": null,
   "metadata": {},
   "outputs": [],
   "source": [
    "# == Correlation between PCAs ==\n",
    "plt.figure(figsize=(12, 8))\n",
    "factor_loadings = pca_.components_.T * np.sqrt(pca_.explained_variance_)\n",
    "sns.heatmap(factor_loadings, cmap='coolwarm', annot=True, fmt='.2f')\n",
    "plt.xlabel(\"Principal Components\")\n",
    "plt.ylabel(\"Variables\")\n",
    "plt.title(\"Factor Loadings Heatmap\")\n",
    "plt.show()"
   ]
  },
  {
   "cell_type": "markdown",
   "metadata": {},
   "source": [
    "## Statistical Analysis"
   ]
  },
  {
   "cell_type": "code",
   "execution_count": null,
   "metadata": {},
   "outputs": [],
   "source": [
    "from scipy.stats import kstest\n",
    "from scipy.stats import lognorm\n",
    "from scipy.stats import shapiro"
   ]
  },
  {
   "cell_type": "code",
   "execution_count": null,
   "metadata": {},
   "outputs": [],
   "source": [
    "# == Statistics ==\n",
    "alpha = 0.05\n",
    "\n",
    "columns = []\n",
    "ks_results = []\n",
    "shapiro_results = []\n",
    "lognorm_results = []\n",
    "\n",
    "for column in data_numeric.columns:\n",
    "    data_column = data_numeric[column]\n",
    "\n",
    "    ks_statistic, ks_p_value = kstest(data_column, \"norm\")\n",
    "    \n",
    "    shapiro_statistic, shapiro_p_value = shapiro(data_column)\n",
    "    \n",
    "    lognorm_params = lognorm.fit(data_column)\n",
    "    lognorm_statistic, lognorm_p_value = kstest(data_column, \"lognorm\", lognorm_params)\n",
    "    \n",
    "    columns.append(column)\n",
    "    ks_results.append(ks_p_value > alpha)\n",
    "    shapiro_results.append(shapiro_p_value > alpha)\n",
    "    lognorm_results.append(lognorm_p_value > alpha)\n",
    "\n",
    "results_df = pd.DataFrame({\n",
    "    \"Attribute\": columns,\n",
    "    \"Kolmogorov-Smirnov Test (Normal)\": ks_results,\n",
    "    \"Shapiro-Wilk Test (Normal)\": shapiro_results,\n",
    "    \"Log-Normality Test\": lognorm_results\n",
    "})\n",
    "\n",
    "results_df[\"Kolmogorov-Smirnov Test (Normal)\"] = results_df[\"Kolmogorov-Smirnov Test (Normal)\"].map({True: \"Yes\", False: \"No\"})\n",
    "results_df[\"Shapiro-Wilk Test (Normal)\"] = results_df[\"Shapiro-Wilk Test (Normal)\"].map({True: \"Yes\", False: \"No\"})\n",
    "results_df[\"Log-Normality Test\"] = results_df[\"Log-Normality Test\"].map({True: \"Yes\", False: \"No\"})\n",
    "\n",
    "latex_table = results_df.to_latex(index=False)\n",
    "print(latex_table)"
   ]
  }
 ],
 "metadata": {
  "kernelspec": {
   "display_name": "mlshit",
   "language": "python",
   "name": "python3"
  },
  "language_info": {
   "codemirror_mode": {
    "name": "ipython",
    "version": 3
   },
   "file_extension": ".py",
   "mimetype": "text/x-python",
   "name": "python",
   "nbconvert_exporter": "python",
   "pygments_lexer": "ipython3",
   "version": "3.11.4"
  },
  "orig_nbformat": 4
 },
 "nbformat": 4,
 "nbformat_minor": 2
}
